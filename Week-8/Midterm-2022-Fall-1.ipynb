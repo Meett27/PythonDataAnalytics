{
 "cells": [
  {
   "cell_type": "markdown",
   "metadata": {},
   "source": [
    "# Midtem-2022 \n"
   ]
  },
  {
   "cell_type": "markdown",
   "metadata": {},
   "source": [
    "- Name:\n",
    "- Student Number:"
   ]
  },
  {
   "cell_type": "markdown",
   "metadata": {},
   "source": [
    "#### Example1: (1 Mark)\n",
    "1.create a dictionary for the consumer items which contains prices of 3 some items and names , convert the above dictionary into a series.\n"
   ]
  },
  {
   "cell_type": "code",
   "execution_count": null,
   "metadata": {},
   "outputs": [],
   "source": []
  },
  {
   "cell_type": "markdown",
   "metadata": {},
   "source": [
    "#### Example2: (1 Mark)\n",
    "1.Create a 4x4 - 2 dimensional array and then slice it into half horizontally.\n"
   ]
  },
  {
   "cell_type": "code",
   "execution_count": null,
   "metadata": {},
   "outputs": [],
   "source": []
  },
  {
   "cell_type": "markdown",
   "metadata": {},
   "source": [
    "#### Example3:(3 Mark)\n",
    "- Create a 3x9 data frame with some random nan values in it.\n",
    "- Drop all nan values.\n",
    "- Drop only those rows where all column values are nan.\n",
    "- Once the row is dropped, replace the remaining nan values wih a value of 0."
   ]
  },
  {
   "cell_type": "code",
   "execution_count": null,
   "metadata": {},
   "outputs": [],
   "source": []
  },
  {
   "cell_type": "markdown",
   "metadata": {},
   "source": [
    "#### Example4: (3 Mark)\n",
    "1.Create a series with 5 elements.\n",
    "\n",
    "2.Create a 2*5 data frame with some random values.\n",
    "\n",
    "\n",
    "3.Subtract the series from the above data frame."
   ]
  },
  {
   "cell_type": "code",
   "execution_count": null,
   "metadata": {},
   "outputs": [],
   "source": []
  },
  {
   "cell_type": "markdown",
   "metadata": {},
   "source": [
    "#### Example5:(3 Mark)\n",
    "\n",
    "Create two figures.\n",
    "1. First figure has only one subplot.\n",
    "Second figure should have two subplots.\n",
    "2. Plot some random data into those subplots.\n"
   ]
  },
  {
   "cell_type": "code",
   "execution_count": null,
   "metadata": {},
   "outputs": [],
   "source": []
  },
  {
   "cell_type": "markdown",
   "metadata": {},
   "source": [
    "#### Example6: (4 Mark)\n",
    "    1. Read the dataset and create dataframe\n",
    "    2. Create a new column called 'Average' that contains the Average of 3 columns (Mini_Exam1, Mini_Exam2, Mini_Exam3)\n",
    "    3. use the scatter plot and find correlation between all numerical features.\n",
    "    4. write your analysis on the relationship with different features?\n",
    "    5. Use pie plot to display information of Grade column."
   ]
  },
  {
   "cell_type": "code",
   "execution_count": null,
   "metadata": {},
   "outputs": [],
   "source": []
  }
 ],
 "metadata": {
  "kernelspec": {
   "display_name": "Python 3 (ipykernel)",
   "language": "python",
   "name": "python3"
  },
  "language_info": {
   "codemirror_mode": {
    "name": "ipython",
    "version": 3
   },
   "file_extension": ".py",
   "mimetype": "text/x-python",
   "name": "python",
   "nbconvert_exporter": "python",
   "pygments_lexer": "ipython3",
   "version": "3.9.7"
  }
 },
 "nbformat": 4,
 "nbformat_minor": 4
}
